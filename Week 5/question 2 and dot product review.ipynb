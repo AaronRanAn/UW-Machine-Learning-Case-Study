{
 "metadata": {
  "name": ""
 },
 "nbformat": 3,
 "nbformat_minor": 0,
 "worksheets": [
  {
   "cells": [
    {
     "cell_type": "code",
     "collapsed": false,
     "input": [
      "import numpy as np"
     ],
     "language": "python",
     "metadata": {},
     "outputs": [],
     "prompt_number": 1
    },
    {
     "cell_type": "code",
     "collapsed": false,
     "input": [
      "v1 = np.array([1, 3, 2, 1, 2, 1, 1])\n",
      "\n",
      "v2 = np.array([7, 0, 2, 1, 0, 0, 1])\n",
      "\n",
      "v3 = np.array([1, 7, 0, 0, 2, 0, 1])\n",
      "\n",
      "v4 = np.array([1, 0, 0, 0, 7, 1, 2])\n",
      "\n",
      "v5 = np.array([0, 2, 0, 0, 7, 1, 1])"
     ],
     "language": "python",
     "metadata": {},
     "outputs": [],
     "prompt_number": 2
    },
    {
     "cell_type": "code",
     "collapsed": false,
     "input": [
      "sim_v = [np.dot(v1, v2), np.dot(v1, v3), np.dot(v1, v4), np.dot(v1, v5)]"
     ],
     "language": "python",
     "metadata": {},
     "outputs": [],
     "prompt_number": 4
    },
    {
     "cell_type": "code",
     "collapsed": false,
     "input": [
      "sim_v"
     ],
     "language": "python",
     "metadata": {},
     "outputs": [
      {
       "metadata": {},
       "output_type": "pyout",
       "prompt_number": 5,
       "text": [
        "[13, 27, 18, 22]"
       ]
      }
     ],
     "prompt_number": 5
    },
    {
     "cell_type": "code",
     "collapsed": false,
     "input": [],
     "language": "python",
     "metadata": {},
     "outputs": []
    }
   ],
   "metadata": {}
  }
 ]
}