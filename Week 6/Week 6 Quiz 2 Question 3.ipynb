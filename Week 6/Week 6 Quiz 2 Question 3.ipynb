{
 "cells": [
  {
   "cell_type": "code",
   "execution_count": 1,
   "metadata": {
    "collapsed": false
   },
   "outputs": [
    {
     "name": "stdout",
     "output_type": "stream",
     "text": [
      "------------------------------------------------------------\n",
      "[0, 0, 0]\n",
      "[0.1, 0.0, 0.0]\n",
      "[0.2, 0.0, 0.1]\n",
      "[0.30000000000000004, 0.1, 0.1]\n",
      "------------------------------------------------------------\n",
      "[0.30000000000000004, 0.1, 0.1]\n",
      "[0.4, 0.1, 0.1]\n",
      "[0.5, 0.1, 0.2]\n",
      "[0.5, 0.1, 0.2]\n",
      "------------------------------------------------------------\n",
      "[0.4, 0.0, 0.1]\n",
      "[0.5, 0.0, 0.1]\n",
      "[0.5, 0.0, 0.1]\n",
      "[0.6, 0.1, 0.1]\n",
      "------------------------------------------------------------\n",
      "[0.5, 0.0, 0.0]\n",
      "[0.6, 0.0, 0.0]\n",
      "[0.6, 0.0, 0.0]\n",
      "[0.6, 0.0, 0.0]\n",
      "------------------------------------------------------------\n",
      "[0.5, -0.1, -0.1]\n",
      "[0.6, -0.1, -0.1]\n",
      "[0.7, -0.1, 0.0]\n",
      "[0.7, -0.1, 0.0]\n",
      "------------------------------------------------------------\n",
      "[0.6, -0.2, -0.1]\n",
      "[0.6, -0.2, -0.1]\n",
      "[0.7, -0.2, 0.0]\n",
      "[0.7999999999999999, -0.1, 0.0]\n",
      "------------------------------------------------------------\n",
      "[0.7, -0.2, -0.1]\n",
      "[0.7, -0.2, -0.1]\n",
      "[0.7, -0.2, -0.1]\n",
      "[0.7999999999999999, -0.1, -0.1]\n",
      "------------------------------------------------------------\n",
      "[0.7, -0.2, -0.2]\n",
      "[0.7, -0.2, -0.2]\n",
      "[0.7999999999999999, -0.2, -0.1]\n",
      "[0.7999999999999999, -0.2, -0.1]\n",
      "------------------------------------------------------------\n",
      "[0.7999999999999999, -0.2, -0.1]\n",
      "[0.7999999999999999, -0.2, -0.1]\n",
      "[0.7999999999999999, -0.2, -0.1]\n",
      "[0.7999999999999999, -0.2, -0.1]\n"
     ]
    }
   ],
   "source": [
    "threshold = 0.5\n",
    "learning_rate = 0.1\n",
    "weights = [0, 0, 0]\n",
    "training_set = [((1, 0, 0), 1), ((1, 0, 1), 1), ((1, 1, 0), 1), ((1, 1, 1), 0)]\n",
    "\n",
    "def dot_product(values, weights):\n",
    "    return sum(value * weight for value, weight in zip(values, weights))\n",
    "\n",
    "while True:\n",
    "    print('-' * 60)\n",
    "    error_count = 0\n",
    "    for input_vector, desired_output in training_set:\n",
    "        print(weights)\n",
    "        result = dot_product(input_vector, weights) > threshold\n",
    "        error = desired_output - result\n",
    "        if error != 0:\n",
    "            error_count += 1\n",
    "            for index, value in enumerate(input_vector):\n",
    "                weights[index] += learning_rate * error * value\n",
    "    if error_count == 0:\n",
    "        break"
   ]
  },
  {
   "cell_type": "code",
   "execution_count": null,
   "metadata": {
    "collapsed": true
   },
   "outputs": [],
   "source": []
  }
 ],
 "metadata": {
  "kernelspec": {
   "display_name": "Python 2",
   "language": "python",
   "name": "python2"
  },
  "language_info": {
   "codemirror_mode": {
    "name": "ipython",
    "version": 2
   },
   "file_extension": ".py",
   "mimetype": "text/x-python",
   "name": "python",
   "nbconvert_exporter": "python",
   "pygments_lexer": "ipython2",
   "version": "2.7.10"
  }
 },
 "nbformat": 4,
 "nbformat_minor": 0
}
